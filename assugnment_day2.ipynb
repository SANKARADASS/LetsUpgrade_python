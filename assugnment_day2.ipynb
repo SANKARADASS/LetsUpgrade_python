{
  "nbformat": 4,
  "nbformat_minor": 0,
  "metadata": {
    "colab": {
      "name": "assugnment_day2",
      "provenance": [],
      "collapsed_sections": [],
      "authorship_tag": "ABX9TyP4jcJMiuW393D5BMRH3Yo9",
      "include_colab_link": true
    },
    "kernelspec": {
      "name": "python3",
      "display_name": "Python 3"
    }
  },
  "cells": [
    {
      "cell_type": "markdown",
      "metadata": {
        "id": "view-in-github",
        "colab_type": "text"
      },
      "source": [
        "<a href=\"https://colab.research.google.com/github/SANKARADASS/LetsUpgrade_python/blob/master/assugnment_day2.ipynb\" target=\"_parent\"><img src=\"https://colab.research.google.com/assets/colab-badge.svg\" alt=\"Open In Colab\"/></a>"
      ]
    },
    {
      "cell_type": "markdown",
      "metadata": {
        "id": "5nOjlECICrL5",
        "colab_type": "text"
      },
      "source": [
        "#1.lists"
      ]
    },
    {
      "cell_type": "code",
      "metadata": {
        "id": "tamkloABCcNE",
        "colab_type": "code",
        "colab": {
          "base_uri": "https://localhost:8080/",
          "height": 34
        },
        "outputId": "6c590786-3d86-4ca2-d1ce-8b3f9af71163"
      },
      "source": [
        "a=[1,5,7.5,'dass','m','all','sankar']\n",
        "len(a)"
      ],
      "execution_count": 2,
      "outputs": [
        {
          "output_type": "execute_result",
          "data": {
            "text/plain": [
              "7"
            ]
          },
          "metadata": {
            "tags": []
          },
          "execution_count": 2
        }
      ]
    },
    {
      "cell_type": "code",
      "metadata": {
        "id": "6hkVIl1-DGlR",
        "colab_type": "code",
        "colab": {
          "base_uri": "https://localhost:8080/",
          "height": 34
        },
        "outputId": "58f79544-7a07-4097-b353-e7c8f511feb4"
      },
      "source": [
        "a.append('abcd')\n",
        "a"
      ],
      "execution_count": 3,
      "outputs": [
        {
          "output_type": "execute_result",
          "data": {
            "text/plain": [
              "[1, 5, 7.5, 'dass', 'm', 'all', 'sankar', 'abcd']"
            ]
          },
          "metadata": {
            "tags": []
          },
          "execution_count": 3
        }
      ]
    },
    {
      "cell_type": "code",
      "metadata": {
        "id": "7qY6O_qADTZT",
        "colab_type": "code",
        "colab": {
          "base_uri": "https://localhost:8080/",
          "height": 34
        },
        "outputId": "b7c67869-82d5-4922-ecb4-ed025b6e3e2f"
      },
      "source": [
        "a.remove('m')\n",
        "a"
      ],
      "execution_count": 4,
      "outputs": [
        {
          "output_type": "execute_result",
          "data": {
            "text/plain": [
              "[1, 5, 7.5, 'dass', 'all', 'sankar', 'abcd']"
            ]
          },
          "metadata": {
            "tags": []
          },
          "execution_count": 4
        }
      ]
    },
    {
      "cell_type": "code",
      "metadata": {
        "id": "P8dtrnGEDbOg",
        "colab_type": "code",
        "colab": {
          "base_uri": "https://localhost:8080/",
          "height": 34
        },
        "outputId": "66d7938d-3351-435c-b734-2a588f1a0640"
      },
      "source": [
        "a.index('abcd')"
      ],
      "execution_count": 5,
      "outputs": [
        {
          "output_type": "execute_result",
          "data": {
            "text/plain": [
              "6"
            ]
          },
          "metadata": {
            "tags": []
          },
          "execution_count": 5
        }
      ]
    },
    {
      "cell_type": "code",
      "metadata": {
        "id": "5ezsoBRqDffn",
        "colab_type": "code",
        "colab": {
          "base_uri": "https://localhost:8080/",
          "height": 34
        },
        "outputId": "a733c8e2-4940-4c8f-a831-5f3d9e2f93a7"
      },
      "source": [
        "a.pop()\n",
        "a"
      ],
      "execution_count": 6,
      "outputs": [
        {
          "output_type": "execute_result",
          "data": {
            "text/plain": [
              "[1, 5, 7.5, 'dass', 'all', 'sankar']"
            ]
          },
          "metadata": {
            "tags": []
          },
          "execution_count": 6
        }
      ]
    },
    {
      "cell_type": "markdown",
      "metadata": {
        "id": "CR-AHP95DlNM",
        "colab_type": "text"
      },
      "source": [
        "2.Tuples"
      ]
    },
    {
      "cell_type": "code",
      "metadata": {
        "id": "qcGwjnz1DnQ1",
        "colab_type": "code",
        "colab": {
          "base_uri": "https://localhost:8080/",
          "height": 34
        },
        "outputId": "5816d2a2-fa78-4356-c91c-081a11ee862c"
      },
      "source": [
        "mytuple=('me',7,8.5)\n",
        "mytuple.index(7)"
      ],
      "execution_count": 7,
      "outputs": [
        {
          "output_type": "execute_result",
          "data": {
            "text/plain": [
              "1"
            ]
          },
          "metadata": {
            "tags": []
          },
          "execution_count": 7
        }
      ]
    },
    {
      "cell_type": "code",
      "metadata": {
        "id": "bAi5xAFkDyep",
        "colab_type": "code",
        "colab": {
          "base_uri": "https://localhost:8080/",
          "height": 34
        },
        "outputId": "c185649a-960f-47ff-e1d1-793aa711b7f4"
      },
      "source": [
        "len(mytuple)"
      ],
      "execution_count": 8,
      "outputs": [
        {
          "output_type": "execute_result",
          "data": {
            "text/plain": [
              "3"
            ]
          },
          "metadata": {
            "tags": []
          },
          "execution_count": 8
        }
      ]
    },
    {
      "cell_type": "code",
      "metadata": {
        "id": "7u-PXkhLD4WK",
        "colab_type": "code",
        "colab": {
          "base_uri": "https://localhost:8080/",
          "height": 34
        },
        "outputId": "b5b2b650-58ef-440b-a0ef-4399157f8f40"
      },
      "source": [
        "mylist=list(mytuple)\n",
        "mylist"
      ],
      "execution_count": 10,
      "outputs": [
        {
          "output_type": "execute_result",
          "data": {
            "text/plain": [
              "['me', 7, 8.5]"
            ]
          },
          "metadata": {
            "tags": []
          },
          "execution_count": 10
        }
      ]
    },
    {
      "cell_type": "code",
      "metadata": {
        "id": "MNqJ5HnoEEzD",
        "colab_type": "code",
        "colab": {
          "base_uri": "https://localhost:8080/",
          "height": 34
        },
        "outputId": "0fe9fafd-1852-425f-c84b-7547a62c01a8"
      },
      "source": [
        "type(mytuple)"
      ],
      "execution_count": 11,
      "outputs": [
        {
          "output_type": "execute_result",
          "data": {
            "text/plain": [
              "tuple"
            ]
          },
          "metadata": {
            "tags": []
          },
          "execution_count": 11
        }
      ]
    },
    {
      "cell_type": "code",
      "metadata": {
        "id": "Lo74U0bLEKCf",
        "colab_type": "code",
        "colab": {}
      },
      "source": [
        "newtuple=tuple(mylist)\n",
        "f=mytuple+newtuple\n",
        "del(newtuple)"
      ],
      "execution_count": 14,
      "outputs": []
    },
    {
      "cell_type": "markdown",
      "metadata": {
        "id": "pDQn-AoAEkOX",
        "colab_type": "text"
      },
      "source": [
        "#3.Dictionary"
      ]
    },
    {
      "cell_type": "code",
      "metadata": {
        "id": "LmnRYwV9Emki",
        "colab_type": "code",
        "colab": {
          "base_uri": "https://localhost:8080/",
          "height": 34
        },
        "outputId": "9baa7f59-215d-4cad-9f03-74e3285fcf90"
      },
      "source": [
        "mydict={1:\"Mango\",2:\"Grapes\",3:\"Apple\"}\n",
        "mydict.keys()"
      ],
      "execution_count": 15,
      "outputs": [
        {
          "output_type": "execute_result",
          "data": {
            "text/plain": [
              "dict_keys([1, 2, 3])"
            ]
          },
          "metadata": {
            "tags": []
          },
          "execution_count": 15
        }
      ]
    },
    {
      "cell_type": "code",
      "metadata": {
        "id": "r-vwtMgyEx-d",
        "colab_type": "code",
        "colab": {
          "base_uri": "https://localhost:8080/",
          "height": 34
        },
        "outputId": "9c1e82c2-de79-4aee-83ec-af04e36fa714"
      },
      "source": [
        "mydict.values()"
      ],
      "execution_count": 16,
      "outputs": [
        {
          "output_type": "execute_result",
          "data": {
            "text/plain": [
              "dict_values(['Mango', 'Grapes', 'Apple'])"
            ]
          },
          "metadata": {
            "tags": []
          },
          "execution_count": 16
        }
      ]
    },
    {
      "cell_type": "code",
      "metadata": {
        "id": "p4TbzWQ5E4df",
        "colab_type": "code",
        "colab": {
          "base_uri": "https://localhost:8080/",
          "height": 34
        },
        "outputId": "06ccab91-8021-421b-dc04-caaf99773ee9"
      },
      "source": [
        "mydict.copy()"
      ],
      "execution_count": 17,
      "outputs": [
        {
          "output_type": "execute_result",
          "data": {
            "text/plain": [
              "{1: 'Mango', 2: 'Grapes', 3: 'Apple'}"
            ]
          },
          "metadata": {
            "tags": []
          },
          "execution_count": 17
        }
      ]
    },
    {
      "cell_type": "code",
      "metadata": {
        "id": "ys09KRzsFAW4",
        "colab_type": "code",
        "colab": {
          "base_uri": "https://localhost:8080/",
          "height": 34
        },
        "outputId": "9ac5a11c-9980-4b44-d6a1-3df736e9b96f"
      },
      "source": [
        "mydict.pop(3)\n",
        "mydict"
      ],
      "execution_count": 18,
      "outputs": [
        {
          "output_type": "execute_result",
          "data": {
            "text/plain": [
              "{1: 'Mango', 2: 'Grapes'}"
            ]
          },
          "metadata": {
            "tags": []
          },
          "execution_count": 18
        }
      ]
    },
    {
      "cell_type": "code",
      "metadata": {
        "id": "NLGoY3a0FI92",
        "colab_type": "code",
        "colab": {
          "base_uri": "https://localhost:8080/",
          "height": 34
        },
        "outputId": "acd162c2-ae88-4d78-96d8-7c5bfbab1151"
      },
      "source": [
        "mydict.update({\"int\":2})\n",
        "mydict"
      ],
      "execution_count": 19,
      "outputs": [
        {
          "output_type": "execute_result",
          "data": {
            "text/plain": [
              "{1: 'Mango', 2: 'Grapes', 'int': 2}"
            ]
          },
          "metadata": {
            "tags": []
          },
          "execution_count": 19
        }
      ]
    },
    {
      "cell_type": "markdown",
      "metadata": {
        "id": "xBKvy8eXFRic",
        "colab_type": "text"
      },
      "source": [
        "#4.Set"
      ]
    },
    {
      "cell_type": "code",
      "metadata": {
        "id": "1SqqwG0TFTf6",
        "colab_type": "code",
        "colab": {
          "base_uri": "https://localhost:8080/",
          "height": 34
        },
        "outputId": "2669040a-0064-49ac-bfad-cce543a45017"
      },
      "source": [
        "fruits={\"Jackfruit\",\"Pineapple\",\"Guava\"}\n",
        "fruit={\"apple\",\"Grapes\",\"Mango\"}\n",
        "total=fruits.union(fruit)\n",
        "total"
      ],
      "execution_count": 23,
      "outputs": [
        {
          "output_type": "execute_result",
          "data": {
            "text/plain": [
              "{'Grapes', 'Guava', 'Jackfruit', 'Mango', 'Pineapple', 'apple'}"
            ]
          },
          "metadata": {
            "tags": []
          },
          "execution_count": 23
        }
      ]
    },
    {
      "cell_type": "code",
      "metadata": {
        "id": "AKdw55NwFeXD",
        "colab_type": "code",
        "colab": {
          "base_uri": "https://localhost:8080/",
          "height": 34
        },
        "outputId": "cb0b5274-3c0e-48e9-a9d2-410fb0a3f52b"
      },
      "source": [
        "total.discard('Jackfruit')\n",
        "total"
      ],
      "execution_count": 26,
      "outputs": [
        {
          "output_type": "execute_result",
          "data": {
            "text/plain": [
              "{'Grapes', 'Guava', 'Mango', 'Pineapple', 'apple'}"
            ]
          },
          "metadata": {
            "tags": []
          },
          "execution_count": 26
        }
      ]
    },
    {
      "cell_type": "code",
      "metadata": {
        "id": "7RwaktYUGIr1",
        "colab_type": "code",
        "colab": {
          "base_uri": "https://localhost:8080/",
          "height": 34
        },
        "outputId": "b131be80-a50c-45f1-c62a-f7b8e96d4894"
      },
      "source": [
        "dood=fruits.issubset(total)\n",
        "dood"
      ],
      "execution_count": 28,
      "outputs": [
        {
          "output_type": "execute_result",
          "data": {
            "text/plain": [
              "False"
            ]
          },
          "metadata": {
            "tags": []
          },
          "execution_count": 28
        }
      ]
    },
    {
      "cell_type": "code",
      "metadata": {
        "id": "IdSI1fzjGXLE",
        "colab_type": "code",
        "colab": {
          "base_uri": "https://localhost:8080/",
          "height": 34
        },
        "outputId": "2740e847-c713-42e6-c3b5-99170019f87b"
      },
      "source": [
        "fruit.pop()\n",
        "fruit"
      ],
      "execution_count": 30,
      "outputs": [
        {
          "output_type": "execute_result",
          "data": {
            "text/plain": [
              "{'Grapes', 'Mango'}"
            ]
          },
          "metadata": {
            "tags": []
          },
          "execution_count": 30
        }
      ]
    },
    {
      "cell_type": "markdown",
      "metadata": {
        "id": "vCsUiQ-MGioy",
        "colab_type": "text"
      },
      "source": [
        "5.Strings"
      ]
    },
    {
      "cell_type": "code",
      "metadata": {
        "id": "btRQzYN7GkcK",
        "colab_type": "code",
        "colab": {
          "base_uri": "https://localhost:8080/",
          "height": 34
        },
        "outputId": "07aab972-6ef1-47f7-9804-99fc9ae3973b"
      },
      "source": [
        "name='dass'\n",
        "len(name)"
      ],
      "execution_count": 31,
      "outputs": [
        {
          "output_type": "execute_result",
          "data": {
            "text/plain": [
              "4"
            ]
          },
          "metadata": {
            "tags": []
          },
          "execution_count": 31
        }
      ]
    },
    {
      "cell_type": "code",
      "metadata": {
        "id": "Pi-zYzBZGsKi",
        "colab_type": "code",
        "colab": {
          "base_uri": "https://localhost:8080/",
          "height": 35
        },
        "outputId": "9d55af2e-5a81-4e8b-9c80-662f530b8c3e"
      },
      "source": [
        "name.lower()"
      ],
      "execution_count": 32,
      "outputs": [
        {
          "output_type": "execute_result",
          "data": {
            "application/vnd.google.colaboratory.intrinsic+json": {
              "type": "string"
            },
            "text/plain": [
              "'dass'"
            ]
          },
          "metadata": {
            "tags": []
          },
          "execution_count": 32
        }
      ]
    },
    {
      "cell_type": "code",
      "metadata": {
        "id": "WzwumzwJGwCT",
        "colab_type": "code",
        "colab": {
          "base_uri": "https://localhost:8080/",
          "height": 35
        },
        "outputId": "85601d17-1c48-41fc-d4d3-8bc88ac17066"
      },
      "source": [
        "name.upper()"
      ],
      "execution_count": 33,
      "outputs": [
        {
          "output_type": "execute_result",
          "data": {
            "application/vnd.google.colaboratory.intrinsic+json": {
              "type": "string"
            },
            "text/plain": [
              "'DASS'"
            ]
          },
          "metadata": {
            "tags": []
          },
          "execution_count": 33
        }
      ]
    },
    {
      "cell_type": "code",
      "metadata": {
        "id": "6XLtdPPwGy5m",
        "colab_type": "code",
        "colab": {
          "base_uri": "https://localhost:8080/",
          "height": 35
        },
        "outputId": "cf94134c-120b-4314-8261-a3a8a7c0cff8"
      },
      "source": [
        "name.replace(\"a\",\"o\")"
      ],
      "execution_count": 34,
      "outputs": [
        {
          "output_type": "execute_result",
          "data": {
            "application/vnd.google.colaboratory.intrinsic+json": {
              "type": "string"
            },
            "text/plain": [
              "'doss'"
            ]
          },
          "metadata": {
            "tags": []
          },
          "execution_count": 34
        }
      ]
    },
    {
      "cell_type": "code",
      "metadata": {
        "id": "eYYfwMtqG86j",
        "colab_type": "code",
        "colab": {
          "base_uri": "https://localhost:8080/",
          "height": 34
        },
        "outputId": "c8ba735e-6cd5-49a3-d950-67d11c42a986"
      },
      "source": [
        "name=\"Sankar Dass\"\n",
        "name.split()"
      ],
      "execution_count": 35,
      "outputs": [
        {
          "output_type": "execute_result",
          "data": {
            "text/plain": [
              "['Sankar', 'Dass']"
            ]
          },
          "metadata": {
            "tags": []
          },
          "execution_count": 35
        }
      ]
    }
  ]
}