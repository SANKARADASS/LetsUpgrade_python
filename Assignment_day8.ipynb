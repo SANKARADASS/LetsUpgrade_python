{
  "nbformat": 4,
  "nbformat_minor": 0,
  "metadata": {
    "colab": {
      "name": "Assignment_day8.ipynb",
      "provenance": [],
      "authorship_tag": "ABX9TyMe1X7g+Ad8ln+RFZ904EPO",
      "include_colab_link": true
    },
    "kernelspec": {
      "name": "python3",
      "display_name": "Python 3"
    }
  },
  "cells": [
    {
      "cell_type": "markdown",
      "metadata": {
        "id": "view-in-github",
        "colab_type": "text"
      },
      "source": [
        "<a href=\"https://colab.research.google.com/github/SANKARADASS/LetsUpgrade_python/blob/master/Assignment_day8.ipynb\" target=\"_parent\"><img src=\"https://colab.research.google.com/assets/colab-badge.svg\" alt=\"Open In Colab\"/></a>"
      ]
    },
    {
      "cell_type": "markdown",
      "metadata": {
        "id": "pgstvULp-scO",
        "colab_type": "text"
      },
      "source": [
        "1.File"
      ]
    },
    {
      "cell_type": "code",
      "metadata": {
        "id": "e48P6dX7-V2a",
        "colab_type": "code",
        "colab": {}
      },
      "source": [
        "f=open (\"myfile.txt\",\"w\")\n",
        "f.write(\"Hello all this is me\")\n",
        "f.close()"
      ],
      "execution_count": 1,
      "outputs": []
    },
    {
      "cell_type": "code",
      "metadata": {
        "id": "_EAnQVkZ-vd8",
        "colab_type": "code",
        "colab": {
          "base_uri": "https://localhost:8080/",
          "height": 51
        },
        "outputId": "fed255b9-1f63-496f-c34a-d000027a8870"
      },
      "source": [
        "try :\n",
        "    file = open(\"myfile.txt\",\"r\")\n",
        "    file.write(\"Hello\")\n",
        "    file.close()\n",
        "    print(\"pass\")\n",
        "except Exception as m:\n",
        "    print(m)\n",
        "finally:\n",
        "    print(\"whatever is it i can execute\")"
      ],
      "execution_count": 2,
      "outputs": [
        {
          "output_type": "stream",
          "text": [
            "not writable\n",
            "whatever is it i can execute\n"
          ],
          "name": "stdout"
        }
      ]
    },
    {
      "cell_type": "markdown",
      "metadata": {
        "id": "Owwzvu8S-zPi",
        "colab_type": "text"
      },
      "source": [
        "2.Fibbo"
      ]
    },
    {
      "cell_type": "code",
      "metadata": {
        "id": "n8ve1l4j-6SM",
        "colab_type": "code",
        "colab": {}
      },
      "source": [
        "def fibDeco(man):\n",
        "    def myFun():\n",
        "        num = int(input(\"Enter any Number - \"))\n",
        "        man(num)\n",
        "    return myFun"
      ],
      "execution_count": 3,
      "outputs": []
    },
    {
      "cell_type": "code",
      "metadata": {
        "id": "UHUCBb6g-70k",
        "colab_type": "code",
        "colab": {}
      },
      "source": [
        "@fibDeco\n",
        "def fibonacci(n):\n",
        "    old_num = 0\n",
        "    a = 1\n",
        "    print('1')\n",
        "    for i in range(0,n):\n",
        "        new_num = a+old_num\n",
        "        old_num = a\n",
        "        a = new_num\n",
        "        print(new_num)"
      ],
      "execution_count": 5,
      "outputs": []
    },
    {
      "cell_type": "code",
      "metadata": {
        "id": "GJyZ1gNf_BgO",
        "colab_type": "code",
        "colab": {
          "base_uri": "https://localhost:8080/",
          "height": 238
        },
        "outputId": "d612d21f-ad20-44ec-b510-bc8900c2e3f4"
      },
      "source": [
        "fibonacci()"
      ],
      "execution_count": 7,
      "outputs": [
        {
          "output_type": "stream",
          "text": [
            "Enter any Number - 11\n",
            "1\n",
            "1\n",
            "2\n",
            "3\n",
            "5\n",
            "8\n",
            "13\n",
            "21\n",
            "34\n",
            "55\n",
            "89\n",
            "144\n"
          ],
          "name": "stdout"
        }
      ]
    }
  ]
}