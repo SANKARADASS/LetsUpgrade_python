{
  "nbformat": 4,
  "nbformat_minor": 0,
  "metadata": {
    "colab": {
      "name": "Assignment_day6.ipynb",
      "provenance": [],
      "collapsed_sections": [],
      "authorship_tag": "ABX9TyNrEjUQCqTf2L6ZIQyq0n2F",
      "include_colab_link": true
    },
    "kernelspec": {
      "name": "python3",
      "display_name": "Python 3"
    }
  },
  "cells": [
    {
      "cell_type": "markdown",
      "metadata": {
        "id": "view-in-github",
        "colab_type": "text"
      },
      "source": [
        "<a href=\"https://colab.research.google.com/github/SANKARADASS/LetsUpgrade_python/blob/master/Assignment_day6.ipynb\" target=\"_parent\"><img src=\"https://colab.research.google.com/assets/colab-badge.svg\" alt=\"Open In Colab\"/></a>"
      ]
    },
    {
      "cell_type": "markdown",
      "metadata": {
        "id": "hbxA7381547Y",
        "colab_type": "text"
      },
      "source": [
        "1.Bank"
      ]
    },
    {
      "cell_type": "code",
      "metadata": {
        "id": "k800nnSo5drW",
        "colab_type": "code",
        "colab": {
          "base_uri": "https://localhost:8080/",
          "height": 170
        },
        "outputId": "63c3452b-c95a-4d36-bcd6-2a7c0657462a"
      },
      "source": [
        "class BankAcc: \n",
        "    def __init__(self): \n",
        "        self.balance=0\n",
        "        print(\"Hello!!! Welcome to Onepress Banking\") \n",
        "    def depo(self): \n",
        "        amount=float(input(\"Enter amount to be Deposited: \")) \n",
        "        self.balance += amount \n",
        "        print(\"\\n Amount Deposited:\",amount) \n",
        "    def withdraw(self): \n",
        "        amount = float(input(\"Enter amount to be Withdrawn: \")) \n",
        "        if self.balance>=amount: \n",
        "            self.balance-=amount \n",
        "            print(\"\\n You Withdrew:\", amount) \n",
        "        else: \n",
        "            print(\"\\n Insufficient balance  \") \n",
        "    def display(self): \n",
        "        print(\"\\n Available Balance=\",self.balance) \n",
        "s = BankAcc()  \n",
        "s.depo() \n",
        "s.withdraw() \n",
        "s.display()"
      ],
      "execution_count": 1,
      "outputs": [
        {
          "output_type": "stream",
          "text": [
            "Hello!!! Welcome to Onepress Banking\n",
            "Enter amount to be Deposited: 100000\n",
            "\n",
            " Amount Deposited: 100000.0\n",
            "Enter amount to be Withdrawn: 10000\n",
            "\n",
            " You Withdrew: 10000.0\n",
            "\n",
            " Available Balance= 90000.0\n"
          ],
          "name": "stdout"
        }
      ]
    },
    {
      "cell_type": "markdown",
      "metadata": {
        "id": "R0B_0pa16Lno",
        "colab_type": "text"
      },
      "source": [
        "2.Cone"
      ]
    },
    {
      "cell_type": "code",
      "metadata": {
        "id": "oOC3AG4F6MYY",
        "colab_type": "code",
        "colab": {}
      },
      "source": [
        "import math\n",
        "from math import pi\n",
        "class cone:\n",
        "  def _init_(self,r,h,s):\n",
        "    self.r=radius\n",
        "    self.h=height\n",
        "    self.s=slantheught\n",
        "#volume of cone  \n",
        "  def volume(r, h): \n",
        "    v=(1/3) * (pi * r * r * h)\n",
        "    return v   \n",
        "# Surface Area of Cone \n",
        "  def surfacearea(r, s): \n",
        "    a=(pi * r * s) + (pi * r * r )\n",
        "    return a\n",
        "r=float(5)\n",
        "h=float(21)\n",
        "s=float(31)\n",
        "volume(r,h)\n",
        "surfacearea(r,s)"
      ],
      "execution_count": null,
      "outputs": []
    }
  ]
}